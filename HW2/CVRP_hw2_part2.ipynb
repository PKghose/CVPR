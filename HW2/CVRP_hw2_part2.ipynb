{
  "cells": [
    {
      "cell_type": "markdown",
      "metadata": {
        "id": "W37lUOmT9yle"
      },
      "source": [
        "# CVRP HW2 - part 2\n",
        "In this part, you will implement **unconditional** and **conditional** PixelCNN on MNIST dataset.\n",
        "To have faster training efficency, GPU acceleration is recommended. However, don't worry if you reach your GPU usage limit on Colab. This part can still be completed within a reasonable timeframe using a standard CPU.\n",
        "\n",
        "PixelCNNs are a type of autoregressive generative model that generate images by modeling the joint distribution of pixels as a product of conditional distributions. In PixelCNN, the pixels are generated one by one in a specific order, with each pixel conditioned on the previously generated pixels. The model uses masked convolutions to ensure that the prediction of each pixel only depends on the already generated pixels, following the raster scan order. For more details, please refer to Lecture 13.\n",
        "\n",
        "Some notes:\n",
        "- This part takes 50 points in total\n",
        "- There is **no questions** in this part\n",
        "- If you made any modifications on the cells with \"DO NOT MODIFY\" label, please be sure to write a detailed README, otherwise, TA will have a hard time grading your code...\n",
        "- If you find it's hard to put all the things into a single notebook, you can have additional files. Make sure you have a README as well.\n",
        "- Please zip all the notebooks or files you have to a compressed zip file before submission."
      ]
    },
    {
      "cell_type": "code",
      "execution_count": null,
      "metadata": {
        "id": "-iydqiNU5fGu"
      },
      "outputs": [],
      "source": [
        "import torch\n",
        "import torch.nn as nn\n",
        "import torch.nn.functional as F\n",
        "\n",
        "from torchvision import datasets\n",
        "from torchvision import transforms\n",
        "import matplotlib.pyplot as plt\n",
        "from tqdm.notebook import tqdm\n",
        "import numpy as np\n",
        "from mpl_toolkits.mplot3d import Axes3D\n",
        "\n",
        "device = torch.device('cuda' if torch.cuda.is_available() else 'cpu')\n"
      ]
    },
    {
      "cell_type": "markdown",
      "metadata": {
        "id": "Yb2COTm-ocln"
      },
      "source": [
        "### MNIST dataset loader\n",
        "Please do not modify this cell"
      ]
    },
    {
      "cell_type": "code",
      "execution_count": null,
      "metadata": {
        "id": "-J1xVnVE_6Zm",
        "colab": {
          "base_uri": "https://localhost:8080/"
        },
        "outputId": "90969b85-d518-43db-db80-f96561696a8f"
      },
      "outputs": [
        {
          "output_type": "stream",
          "name": "stderr",
          "text": [
            "100%|██████████| 9.91M/9.91M [00:01<00:00, 4.98MB/s]\n",
            "100%|██████████| 28.9k/28.9k [00:00<00:00, 64.9kB/s]\n",
            "100%|██████████| 1.65M/1.65M [00:06<00:00, 244kB/s]\n",
            "100%|██████████| 4.54k/4.54k [00:00<00:00, 7.73MB/s]\n"
          ]
        }
      ],
      "source": [
        "# NOTE: DO NOT MODIFY\n",
        "\n",
        "def binarize_image(tensor):\n",
        "    return (tensor > 0.5).float()\n",
        "\n",
        "tensor_transform = transforms.Compose([\n",
        "    transforms.ToTensor(),\n",
        "    transforms.Lambda(binarize_image)\n",
        "])\n",
        "\n",
        "batch_size = 128\n",
        "train_dataset = datasets.MNIST(root = \"./data\",\n",
        "\t\t\t\t\t\t\ttrain = True,\n",
        "\t\t\t\t\t\t\tdownload = True,\n",
        "\t\t\t\t\t\t\ttransform = tensor_transform)\n",
        "test_dataset = datasets.MNIST(root = \"./data\",\n",
        "\t\t\t\t\t\t\ttrain = False,\n",
        "\t\t\t\t\t\t\tdownload = True,\n",
        "\t\t\t\t\t\t\ttransform = tensor_transform)\n",
        "\n",
        "train_loader = torch.utils.data.DataLoader(dataset = train_dataset,\n",
        "\t\t\t\t\t\t\t\t\t\tbatch_size = batch_size,\n",
        "\t\t\t\t\t\t\t\t\t\tshuffle = True)\n",
        "test_loader = torch.utils.data.DataLoader(dataset = test_dataset,\n",
        "\t\t\t\t\t\t\t\t\t\tbatch_size = batch_size,\n",
        "\t\t\t\t\t\t\t\t\t\tshuffle = False)\n"
      ]
    },
    {
      "cell_type": "markdown",
      "metadata": {
        "id": "0_5PFYwtohYY"
      },
      "source": [
        "## **PixelCNN**\n",
        "\n",
        "Tasks:\n",
        "- [15 pts] Implement Masked Convolution by finishing the `MaskedConv2d()` function\n",
        "- [15 pts] Implement PixelCNN with your `MaskedConv2d()`\n",
        "- The training function for unconditional PixelCNN is provided, there is no need to modify `train()`"
      ]
    },
    {
      "cell_type": "code",
      "execution_count": null,
      "metadata": {
        "id": "jDICmZADIiUE"
      },
      "outputs": [],
      "source": [
        "bce = F.binary_cross_entropy\n",
        "\n",
        "def train(dataloader, model, optimizer, epochs):\n",
        "    losses = []\n",
        "\n",
        "    for epoch in tqdm(range(epochs), desc='Epochs'):\n",
        "        running_loss = 0.0\n",
        "\n",
        "        for iter, (images, labels) in enumerate(dataloader):\n",
        "            images = images.to(device)\n",
        "            tgt = images.clone()\n",
        "            pred = model(images)\n",
        "            loss = bce(pred, tgt)\n",
        "\n",
        "            optimizer.zero_grad()\n",
        "            loss.backward()\n",
        "            optimizer.step()\n",
        "\n",
        "            running_loss += loss.item()\n",
        "\n",
        "            avg_loss = running_loss * batch_size / len(train_dataset)\n",
        "            losses.append(loss.item())\n",
        "\n",
        "        tqdm.write(f'Epoch [{epoch+1}/{epochs}], Average Loss: {avg_loss:.4f}')\n",
        "\n",
        "    return losses\n"
      ]
    },
    {
      "cell_type": "markdown",
      "metadata": {
        "id": "N0mqbPsCopVJ"
      },
      "source": [
        "### Masked Convolution\n",
        "The `MaskedConv2d()` function applies a mask to the convolutional filters in a 2D convolutional layer. The mask ensures that each pixel is only influenced by the pixels that have been generated before it. The function should allow for both type A and type B masks, where type A masks do not allow the central pixel to influence itself, and type B masks do."
      ]
    },
    {
      "cell_type": "code",
      "source": [
        "class MaskedConv2d(nn.Conv2d):\n",
        "    def __init__(self, in_channels, out_channels, kernel_size, mask_type, stride=1, padding=0, dilation=1, groups=1, bias=True):\n",
        "        super().__init__(in_channels, out_channels, kernel_size, stride, padding, dilation, groups, bias)\n",
        "\n",
        "        assert mask_type in ('A', 'B'), \"mask_type must be 'A' or 'B'\"\n",
        "\n",
        "        # Create the mask\n",
        "        self.register_buffer(\"mask\", torch.ones_like(self.weight))\n",
        "\n",
        "        # Compute the center of the kernel\n",
        "        k_h, k_w = kernel_size if isinstance(kernel_size, tuple) else (kernel_size, kernel_size)\n",
        "        center_h, center_w = k_h // 2, k_w // 2\n",
        "\n",
        "        # Apply the mask\n",
        "        self.mask[:, :, center_h, center_w + (mask_type == 'B'):] = 0  # Mask out pixels to the right\n",
        "        self.mask[:, :, center_h + 1:] = 0  # Mask out pixels below\n",
        "\n",
        "    def forward(self, x):\n",
        "        self.weight.data *= self.mask  # Apply the mask before convolution\n",
        "        return super().forward(x)\n"
      ],
      "metadata": {
        "id": "Z-9LHn7TdIys"
      },
      "execution_count": null,
      "outputs": []
    },
    {
      "cell_type": "markdown",
      "metadata": {
        "id": "XYUg7AjHottB"
      },
      "source": [
        "### Implement PixelCNN\n",
        "Using your `MaskedConv2d()` function, implement the PixelCNN architecture. Your implementation should include several masked convolutional layers, nonlinear activations, and any necessary normalization layers. Ensure that your model is capable of generating images pixel by pixel."
      ]
    },
    {
      "cell_type": "code",
      "source": [
        "\n",
        "import torch.nn.functional as F\n",
        "\n",
        "class MaskedConv2d(nn.Conv2d):\n",
        "    def __init__(self, in_channels, out_channels, kernel_size, mask_type, stride=1, padding=0, bias=True):\n",
        "        super().__init__(in_channels, out_channels, kernel_size, stride, padding, bias=bias)\n",
        "\n",
        "        assert mask_type in ('A', 'B'), \"mask_type must be 'A' or 'B'\"\n",
        "\n",
        "        self.register_buffer(\"mask\", torch.ones_like(self.weight))\n",
        "\n",
        "        k_h, k_w = kernel_size if isinstance(kernel_size, tuple) else (kernel_size, kernel_size)\n",
        "        center_h, center_w = k_h // 2, k_w // 2\n",
        "\n",
        "        self.mask[:, :, center_h, center_w + (mask_type == 'B'):] = 0\n",
        "        self.mask[:, :, center_h + 1:] = 0\n",
        "\n",
        "    def forward(self, x):\n",
        "        self.weight.data *= self.mask\n",
        "        return super().forward(x)\n",
        "\n",
        "class PixelCNN(nn.Module):\n",
        "    def __init__(self, input_channels=1, hidden_dim=64, num_layers=7, kernel_size=7):\n",
        "        super().__init__()\n",
        "\n",
        "        padding = kernel_size // 2  # To maintain the spatial dimensions\n",
        "        self.layers = nn.ModuleList()\n",
        "\n",
        "        # First layer: Mask-A convolution (ensures no dependence on the current pixel)\n",
        "        self.layers.append(MaskedConv2d(input_channels, hidden_dim, kernel_size, mask_type='A', padding=padding))\n",
        "\n",
        "        # Hidden layers: Mask-B convolutions (can depend on the current pixel but not future pixels)\n",
        "        for _ in range(num_layers - 2):\n",
        "            self.layers.append(MaskedConv2d(hidden_dim, hidden_dim, kernel_size, mask_type='B', padding=padding))\n",
        "            self.layers.append(nn.ReLU())\n",
        "\n",
        "        # Output layer: Mask-B convolution\n",
        "        self.layers.append(MaskedConv2d(hidden_dim, input_channels, kernel_size, mask_type='B', padding=padding))\n",
        "\n",
        "    def forward(self, x):\n",
        "        for layer in self.layers:\n",
        "            x = layer(x)\n",
        "        return torch.sigmoid(x)  # To output probabilities for pixel intensities\n",
        "\n"
      ],
      "metadata": {
        "id": "ITQDpZCpdZXk"
      },
      "execution_count": null,
      "outputs": []
    },
    {
      "cell_type": "markdown",
      "metadata": {
        "id": "S2KxDaEBo-9Z"
      },
      "source": [
        "### Training\n",
        "Train your PixelCNN model on the MNIST dataset. We will use Cross-Entropy Loss (BCE) as the training objective. This is equal to maximizing likelihood for binary sequence autoregressive models. After training, evaluate the model using the provided code for unconditional generation of MNIST digits. You may need to adjust hyperparameters such as the learning rate, number of epochs, and batch size to achieve good results."
      ]
    },
    {
      "cell_type": "code",
      "execution_count": null,
      "metadata": {
        "id": "_n_2PGRUAzou",
        "colab": {
          "base_uri": "https://localhost:8080/",
          "height": 1000,
          "referenced_widgets": [
            "7a6e10bf25b1426f8f0bc828e029fe6d",
            "08184a1a632346258a63516e01da868b",
            "057bb12e3a624e1b85067bec6f2ec7a8",
            "9e1840482105418ea5375c3cf655a69b",
            "5baaa54055f7464aaefaa3e13bae33a4",
            "102e927bca8043cfa1a41e97f71b98f5",
            "6b078d70895c402b94bb6f804a6a5f01",
            "52f9c1d27b7b4fcc8bd4d50c2cb55f99",
            "6de3b6b0186240f2a81e6dc2a06183cb",
            "f240951e183f45f383a9c967bfa916c0",
            "9457f7c892b94573b8a71bc8497570df"
          ]
        },
        "outputId": "86d330de-17b6-45e6-b4a2-9383a06e89b6"
      },
      "outputs": [
        {
          "output_type": "display_data",
          "data": {
            "text/plain": [
              "Epochs:   0%|          | 0/100 [00:00<?, ?it/s]"
            ],
            "application/vnd.jupyter.widget-view+json": {
              "version_major": 2,
              "version_minor": 0,
              "model_id": "7a6e10bf25b1426f8f0bc828e029fe6d"
            }
          },
          "metadata": {}
        },
        {
          "output_type": "stream",
          "name": "stdout",
          "text": [
            "Epoch [1/100], Average Loss: 0.1486\n",
            "Epoch [2/100], Average Loss: 0.0860\n",
            "Epoch [3/100], Average Loss: 0.0832\n",
            "Epoch [4/100], Average Loss: 0.0816\n",
            "Epoch [5/100], Average Loss: 0.0804\n",
            "Epoch [6/100], Average Loss: 0.0799\n",
            "Epoch [7/100], Average Loss: 0.0791\n",
            "Epoch [8/100], Average Loss: 0.0786\n",
            "Epoch [9/100], Average Loss: 0.0781\n",
            "Epoch [10/100], Average Loss: 0.0777\n",
            "Epoch [11/100], Average Loss: 0.0773\n",
            "Epoch [12/100], Average Loss: 0.0770\n",
            "Epoch [13/100], Average Loss: 0.0768\n",
            "Epoch [14/100], Average Loss: 0.0765\n",
            "Epoch [15/100], Average Loss: 0.0761\n",
            "Epoch [16/100], Average Loss: 0.0760\n",
            "Epoch [17/100], Average Loss: 0.0757\n",
            "Epoch [18/100], Average Loss: 0.0756\n",
            "Epoch [19/100], Average Loss: 0.0753\n",
            "Epoch [20/100], Average Loss: 0.0751\n",
            "Epoch [21/100], Average Loss: 0.0750\n",
            "Epoch [22/100], Average Loss: 0.0748\n",
            "Epoch [23/100], Average Loss: 0.0747\n",
            "Epoch [24/100], Average Loss: 0.0746\n",
            "Epoch [25/100], Average Loss: 0.0743\n",
            "Epoch [26/100], Average Loss: 0.0742\n",
            "Epoch [27/100], Average Loss: 0.0742\n",
            "Epoch [28/100], Average Loss: 0.0740\n",
            "Epoch [29/100], Average Loss: 0.0739\n",
            "Epoch [30/100], Average Loss: 0.0738\n",
            "Epoch [31/100], Average Loss: 0.0737\n",
            "Epoch [32/100], Average Loss: 0.0736\n",
            "Epoch [33/100], Average Loss: 0.0734\n",
            "Epoch [34/100], Average Loss: 0.0734\n",
            "Epoch [35/100], Average Loss: 0.0733\n",
            "Epoch [36/100], Average Loss: 0.0732\n",
            "Epoch [37/100], Average Loss: 0.0732\n",
            "Epoch [38/100], Average Loss: 0.0730\n",
            "Epoch [39/100], Average Loss: 0.0729\n",
            "Epoch [40/100], Average Loss: 0.0729\n",
            "Epoch [41/100], Average Loss: 0.0728\n",
            "Epoch [42/100], Average Loss: 0.0727\n",
            "Epoch [43/100], Average Loss: 0.0727\n",
            "Epoch [44/100], Average Loss: 0.0726\n",
            "Epoch [45/100], Average Loss: 0.0725\n",
            "Epoch [46/100], Average Loss: 0.0724\n",
            "Epoch [47/100], Average Loss: 0.0724\n",
            "Epoch [48/100], Average Loss: 0.0723\n",
            "Epoch [49/100], Average Loss: 0.0722\n",
            "Epoch [50/100], Average Loss: 0.0722\n",
            "Epoch [51/100], Average Loss: 0.0721\n",
            "Epoch [52/100], Average Loss: 0.0720\n",
            "Epoch [53/100], Average Loss: 0.0721\n",
            "Epoch [54/100], Average Loss: 0.0719\n",
            "Epoch [55/100], Average Loss: 0.0718\n",
            "Epoch [56/100], Average Loss: 0.0718\n",
            "Epoch [57/100], Average Loss: 0.0717\n",
            "Epoch [58/100], Average Loss: 0.0717\n",
            "Epoch [59/100], Average Loss: 0.0716\n",
            "Epoch [60/100], Average Loss: 0.0716\n",
            "Epoch [61/100], Average Loss: 0.0715\n",
            "Epoch [62/100], Average Loss: 0.0714\n",
            "Epoch [63/100], Average Loss: 0.0714\n",
            "Epoch [64/100], Average Loss: 0.0714\n",
            "Epoch [65/100], Average Loss: 0.0713\n",
            "Epoch [66/100], Average Loss: 0.0712\n",
            "Epoch [67/100], Average Loss: 0.0713\n",
            "Epoch [68/100], Average Loss: 0.0711\n",
            "Epoch [69/100], Average Loss: 0.0711\n",
            "Epoch [70/100], Average Loss: 0.0711\n",
            "Epoch [71/100], Average Loss: 0.0710\n",
            "Epoch [72/100], Average Loss: 0.0709\n",
            "Epoch [73/100], Average Loss: 0.0709\n",
            "Epoch [74/100], Average Loss: 0.0710\n",
            "Epoch [75/100], Average Loss: 0.0708\n",
            "Epoch [76/100], Average Loss: 0.0708\n",
            "Epoch [77/100], Average Loss: 0.0708\n",
            "Epoch [78/100], Average Loss: 0.0707\n",
            "Epoch [79/100], Average Loss: 0.0707\n",
            "Epoch [80/100], Average Loss: 0.0707\n",
            "Epoch [81/100], Average Loss: 0.0707\n",
            "Epoch [82/100], Average Loss: 0.0705\n",
            "Epoch [83/100], Average Loss: 0.0706\n",
            "Epoch [84/100], Average Loss: 0.0705\n",
            "Epoch [85/100], Average Loss: 0.0705\n",
            "Epoch [86/100], Average Loss: 0.0705\n",
            "Epoch [87/100], Average Loss: 0.0704\n",
            "Epoch [88/100], Average Loss: 0.0703\n",
            "Epoch [89/100], Average Loss: 0.0703\n",
            "Epoch [90/100], Average Loss: 0.0703\n",
            "Epoch [91/100], Average Loss: 0.0704\n",
            "Epoch [92/100], Average Loss: 0.0703\n",
            "Epoch [93/100], Average Loss: 0.0702\n",
            "Epoch [94/100], Average Loss: 0.0702\n",
            "Epoch [95/100], Average Loss: 0.0701\n",
            "Epoch [96/100], Average Loss: 0.0701\n",
            "Epoch [97/100], Average Loss: 0.0701\n",
            "Epoch [98/100], Average Loss: 0.0701\n",
            "Epoch [99/100], Average Loss: 0.0700\n",
            "Epoch [100/100], Average Loss: 0.0701\n"
          ]
        }
      ],
      "source": [
        "epochs = 100\n",
        "model = PixelCNN().to(device)\n",
        "optimizer = torch.optim.Adam(model.parameters(), lr=0.001)\n",
        "\n",
        "log = train(train_loader, model, optimizer, epochs)"
      ]
    },
    {
      "cell_type": "markdown",
      "metadata": {
        "id": "TQnZFPm_pDkc"
      },
      "source": [
        "### Evaluation (Reconstruction)\n",
        "The following code is to verify your PixelCNN is able to reconstruct the image from MNIST test set."
      ]
    },
    {
      "cell_type": "code",
      "execution_count": null,
      "metadata": {
        "id": "VFFyeeEjxsxQ",
        "colab": {
          "base_uri": "https://localhost:8080/",
          "height": 1000
        },
        "outputId": "a2b64859-791b-494d-8b3e-c8db1c54043c"
      },
      "outputs": [
        {
          "output_type": "display_data",
          "data": {
            "text/plain": [
              "<Figure size 1500x1500 with 64 Axes>"
            ],
            "image/png": "[encoded data removed]"
          },
          "metadata": {}
        }
      ],
      "source": [
        "H, W = 28, 28\n",
        "\n",
        "with torch.no_grad():\n",
        "  for iter, (images, labels) in enumerate(test_loader):\n",
        "      images = images.to(device)\n",
        "      pred = model(images)\n",
        "\n",
        "      for i in range(H):\n",
        "          for j in range(W):\n",
        "              pred[:, :, i, j] = torch.bernoulli(pred[:, :, i, j], out=pred[:, :, i, j])\n",
        "      break\n",
        "\n",
        "samples = pred.detach().cpu().numpy().transpose(0, 2, 3, 1)\n",
        "fig, axes = plt.subplots(8, 8, figsize=(15, 15))\n",
        "\n",
        "for i in range(64):\n",
        "    sample = samples[i]\n",
        "    row, col = divmod(i, 8)\n",
        "    axes[row, col].imshow(sample, cmap='gray')\n",
        "    axes[row, col].axis('off')\n",
        "\n",
        "plt.tight_layout()\n",
        "plt.show()"
      ]
    },
    {
      "cell_type": "markdown",
      "metadata": {
        "id": "mqr0yIvYpL2_"
      },
      "source": [
        "### Evaluation (Generation)"
      ]
    },
    {
      "cell_type": "code",
      "execution_count": null,
      "metadata": {
        "id": "tQseF8t5BpPU",
        "colab": {
          "base_uri": "https://localhost:8080/",
          "height": 1000
        },
        "outputId": "7a65e358-b760-445d-a434-9dac1d5fb30a"
      },
      "outputs": [
        {
          "output_type": "display_data",
          "data": {
            "text/plain": [
              "<Figure size 1500x1500 with 64 Axes>"
            ],
            "image/png": "[encoded data removed]"
          },
          "metadata": {}
        }
      ],
      "source": [
        "samples = torch.zeros(size=(64, 1, H, W)).to(device)\n",
        "with torch.no_grad():\n",
        "    for i in range(H):\n",
        "        for j in range(W):\n",
        "            if j > 0 and i > 0:\n",
        "                out = model(samples)\n",
        "                samples[:, :, i, j] = torch.bernoulli(out[:, :, i, j], out=samples[:, :, i, j])\n",
        "\n",
        "samples = samples.cpu().numpy().transpose(0, 2, 3, 1)\n",
        "fig, axes = plt.subplots(8, 8, figsize=(15, 15))\n",
        "\n",
        "for i in range(64):\n",
        "    sample = samples[i]\n",
        "    row, col = divmod(i, 8)\n",
        "    axes[row, col].imshow(sample, cmap='gray')\n",
        "    axes[row, col].axis('off')\n",
        "\n",
        "plt.tight_layout()\n",
        "plt.show()"
      ]
    },
    {
      "cell_type": "markdown",
      "source": [
        "## **Conditional PixelCNN**\n",
        "Conditional PixelCNNs extend the basic PixelCNN model by conditioning the generation process on additional information, such as class labels. In this part, you will implement and train a Conditional PixelCNN on the MNIST dataset, where the model is conditioned on the digit class labels.\n",
        "\n",
        "Tasks:\n",
        "- [5 pts] Extend your implementation of the `ConditionalMaskedConv2d()` function to incorporate a conditional bias based on class labels\n",
        "- [5 pts] Using your `ConditionalMaskedConv2d()` function, implement the Conditional PixelCNN architecture\n",
        "- [5 pts] Write your own training function. The training process is similar as in unconditional PixelCNN with some changes\n",
        "- [5 pts] Train your Conditional PixelCNN on the MNIST dataset. After training, evaluate the model’s performance on the test set by generating images conditioned on specific digit classes."
      ],
      "metadata": {
        "id": "cN-2_nxXSksO"
      }
    },
    {
      "cell_type": "code",
      "source": [
        "device = torch.device(\"cuda:0\" if torch.cuda.is_available() else \"cpu\")\n",
        "print(\"Device:\", device)"
      ],
      "metadata": {
        "id": "8PqxNaE0bOSH",
        "colab": {
          "base_uri": "https://localhost:8080/"
        },
        "outputId": "25f75bcf-4f01-432d-a7df-a82db56cb378"
      },
      "execution_count": null,
      "outputs": [
        {
          "output_type": "stream",
          "name": "stdout",
          "text": [
            "Device: cuda:0\n"
          ]
        }
      ]
    },
    {
      "cell_type": "code",
      "source": [
        "def train_cond(dataloader, model, optimizer, epochs, device):\n",
        "    \"\"\"\n",
        "    Train a Conditional PixelCNN for a specified number of epochs.\n",
        "    \"\"\"\n",
        "    model.train()\n",
        "    bce = F.binary_cross_entropy\n",
        "    losses_per_epoch = []\n",
        "\n",
        "    for epoch in range(epochs):\n",
        "        running_loss = 0.0\n",
        "        for images, labels in dataloader:\n",
        "            images = images.to(device)\n",
        "            labels = labels.to(device)\n",
        "\n",
        "            # Forward pass (conditional)\n",
        "            outputs = model(images, labels)\n",
        "            loss = bce(outputs, images)  # we are modeling P(x | label)\n",
        "\n",
        "            # Backprop\n",
        "            optimizer.zero_grad()\n",
        "            loss.backward()\n",
        "            optimizer.step()\n",
        "\n",
        "            running_loss += loss.item()\n",
        "\n",
        "        epoch_loss = running_loss / len(dataloader)\n",
        "        losses_per_epoch.append(epoch_loss)\n",
        "        print(f\"Epoch [{epoch+1}/{epochs}], Loss: {epoch_loss:.4f}\")\n",
        "\n",
        "    return losses_per_epoch\n",
        "\n"
      ],
      "metadata": {
        "id": "2uzxGzSSD_Ha"
      },
      "execution_count": null,
      "outputs": []
    },
    {
      "cell_type": "markdown",
      "source": [
        "### Conditional Masked Convolution\n",
        "The conditional bias should be added to the output of each convolutional layer $l$ as follows:\n",
        "\n",
        "$W_l * x + b_l + V_{ly}$\n",
        "\n",
        "where $W_l * x + b_l$ represents the masked convolution, $V_l$ is a 2D weight matrix, and $y$ is the one-hot encoded class label. The conditional bias $V_{ly}$ should be broadcasted spatially and added to the output channel-wise."
      ],
      "metadata": {
        "id": "Ve1Y97ALEFWn"
      }
    },
    {
      "cell_type": "code",
      "source": [
        "class ConditionalMaskedConv2d(nn.Conv2d):\n",
        "    \"\"\"\n",
        "    A MaskedConv2d extended to include a label-conditioned bias term.\n",
        "    \"\"\"\n",
        "    def __init__(\n",
        "        self,\n",
        "        in_channels,\n",
        "        out_channels,\n",
        "        kernel_size,\n",
        "        mask_type='A',\n",
        "        num_classes=10,\n",
        "        stride=1,\n",
        "        padding=0,\n",
        "        dilation=1,\n",
        "        groups=1,\n",
        "        bias=True,\n",
        "        embedding_dim=None  # if None, default to out_channels\n",
        "    ):\n",
        "        super().__init__(\n",
        "            in_channels,\n",
        "            out_channels,\n",
        "            kernel_size,\n",
        "            stride=stride,\n",
        "            padding=padding,\n",
        "            dilation=dilation,\n",
        "            groups=groups,\n",
        "            bias=bias\n",
        "        )\n",
        "        if mask_type not in ['A', 'B']:\n",
        "            raise ValueError(\"mask_type must be 'A' or 'B'\")\n",
        "\n",
        "        self.mask_type = mask_type\n",
        "\n",
        "        # Construct the mask\n",
        "        self.register_buffer('mask', self._make_mask())\n",
        "\n",
        "        # Embedding for class labels --> size out_channels (or custom embedding_dim)\n",
        "        if embedding_dim is None:\n",
        "            embedding_dim = out_channels\n",
        "        self.label_embedding = nn.Embedding(num_classes, embedding_dim)\n",
        "\n",
        "        # If embedding_dim != out_channels, we can map embedding_dim -> out_channels\n",
        "        if embedding_dim != out_channels:\n",
        "            self.emb_proj = nn.Linear(embedding_dim, out_channels, bias=False)\n",
        "        else:\n",
        "            self.emb_proj = None\n",
        "\n",
        "    def _make_mask(self):\n",
        "        \"\"\"\n",
        "        Creates the mask so that each pixel only sees those that came before it.\n",
        "        For mask_type='A', the center pixel is excluded.\n",
        "        For mask_type='B', the center pixel is included.\n",
        "        \"\"\"\n",
        "        mask = torch.ones_like(self.weight)  # shape [out_channels, in_channels, kH, kW]\n",
        "        _, _, kH, kW = self.weight.shape\n",
        "\n",
        "        # Identify the \"center\" of the kernel\n",
        "        center_h = kH // 2\n",
        "        center_w = kW // 2\n",
        "\n",
        "        # Zero out everything below the current row\n",
        "        mask[:, :, center_h+1:, :] = 0\n",
        "        # Zero out everything to the right of the center pixel in the current row\n",
        "        mask[:, :, center_h, center_w+1:] = 0\n",
        "\n",
        "        if self.mask_type == 'A':\n",
        "            # Exclude the center pixel for mask A\n",
        "            mask[:, :, center_h, center_w] = 0\n",
        "\n",
        "        return mask\n",
        "\n",
        "    def forward(self, x, class_condition):\n",
        "        \"\"\"\n",
        "        x: [B, in_channels, H, W]\n",
        "        class_condition: [B] of integer class labels\n",
        "        \"\"\"\n",
        "        # Normal masked convolution\n",
        "        masked_weight = self.weight * self.mask\n",
        "        conv_out = F.conv2d(\n",
        "            x,\n",
        "            masked_weight,\n",
        "            self.bias,  # base bias term\n",
        "            self.stride,\n",
        "            self.padding,\n",
        "            self.dilation,\n",
        "            self.groups\n",
        "        )\n",
        "\n",
        "        # Embed the class label --> shape [B, embedding_dim]\n",
        "        label_emb = self.label_embedding(class_condition)  # [B, embedding_dim]\n",
        "        if self.emb_proj is not None:\n",
        "            label_emb = self.emb_proj(label_emb)  # [B, out_channels]\n",
        "\n",
        "        # Broadcast add to conv_out: conv_out is [B, out_channels, H, W]\n",
        "        # So we reshape label_emb to [B, out_channels, 1, 1]\n",
        "        label_emb = label_emb.unsqueeze(-1).unsqueeze(-1)\n",
        "        conv_out = conv_out + label_emb\n",
        "\n",
        "        return conv_out\n"
      ],
      "metadata": {
        "id": "l1GQQqh5EG5L"
      },
      "execution_count": null,
      "outputs": []
    },
    {
      "cell_type": "markdown",
      "source": [
        "### Implement Conditional PixelCNN\n",
        "Using your `ConditionalMaskedConv2d()` function, implement the Conditional PixelCNN architecture. Your model should include several conditional masked convolutional layers, with the class label influencing each layer’s output through the conditional bias. The overall architecture should closely resemble the regular PixelCNN but with the additional conditioning on class labels."
      ],
      "metadata": {
        "id": "LNoQoYwgENu1"
      }
    },
    {
      "cell_type": "code",
      "source": [
        "# -----------------------------\n",
        "class ConditionalPixelCNN(nn.Module):\n",
        "    \"\"\"\n",
        "    A minimal conditional PixelCNN for binarized MNIST.\n",
        "    \"\"\"\n",
        "    def __init__(self, num_classes=10, in_channels=1, hidden_dim=64, kernel_size=7):\n",
        "        super().__init__()\n",
        "\n",
        "        self.conv1 = ConditionalMaskedConv2d(\n",
        "            in_channels=in_channels,\n",
        "            out_channels=hidden_dim,\n",
        "            kernel_size=kernel_size,\n",
        "            mask_type='A',\n",
        "            num_classes=num_classes,\n",
        "            padding=kernel_size//2\n",
        "        )\n",
        "        self.conv2 = ConditionalMaskedConv2d(\n",
        "            in_channels=hidden_dim,\n",
        "            out_channels=hidden_dim,\n",
        "            kernel_size=kernel_size,\n",
        "            mask_type='B',\n",
        "            num_classes=num_classes,\n",
        "            padding=kernel_size//2\n",
        "        )\n",
        "        self.conv3 = ConditionalMaskedConv2d(\n",
        "            in_channels=hidden_dim,\n",
        "            out_channels=hidden_dim,\n",
        "            kernel_size=kernel_size,\n",
        "            mask_type='B',\n",
        "            num_classes=num_classes,\n",
        "            padding=kernel_size//2\n",
        "        )\n",
        "        self.conv_out = ConditionalMaskedConv2d(\n",
        "            in_channels=hidden_dim,\n",
        "            out_channels=1,\n",
        "            kernel_size=1,\n",
        "            mask_type='B',\n",
        "            num_classes=num_classes,\n",
        "            padding=0\n",
        "        )\n",
        "\n",
        "    def forward(self, x, labels):\n",
        "        \"\"\"\n",
        "        x: [B, 1, H, W]\n",
        "        labels: [B] of integer class labels\n",
        "        \"\"\"\n",
        "        x = F.relu(self.conv1(x, labels))\n",
        "        x = F.relu(self.conv2(x, labels))\n",
        "        x = F.relu(self.conv3(x, labels))\n",
        "        x = self.conv_out(x, labels)\n",
        "\n",
        "        # Convert logits to probabilities\n",
        "        x = torch.sigmoid(x)\n",
        "        return x\n"
      ],
      "metadata": {
        "id": "Lu7W7LWbEO9A"
      },
      "execution_count": null,
      "outputs": []
    },
    {
      "cell_type": "markdown",
      "source": [
        "### Training"
      ],
      "metadata": {
        "id": "SXXbf1xTTT7H"
      }
    },
    {
      "cell_type": "code",
      "source": [
        "epochs = 100\n",
        "n_classes = 10\n",
        "model = ConditionalPixelCNN(n_classes).to(device)\n",
        "optimizer = torch.optim.Adam(model.parameters(), lr=0.001)\n",
        "\n",
        "log = train_cond(train_loader, model, optimizer, epochs, device)\n",
        "\n"
      ],
      "metadata": {
        "colab": {
          "base_uri": "https://localhost:8080/"
        },
        "id": "AQqBlX9hETlH",
        "outputId": "f3522b8f-6d85-4c02-f393-13bc65c323cf"
      },
      "execution_count": null,
      "outputs": [
        {
          "output_type": "stream",
          "name": "stdout",
          "text": [
            "Epoch [1/100], Loss: 0.1453\n",
            "Epoch [2/100], Loss: 0.0927\n",
            "Epoch [3/100], Loss: 0.0883\n",
            "Epoch [4/100], Loss: 0.0863\n",
            "Epoch [5/100], Loss: 0.0848\n",
            "Epoch [6/100], Loss: 0.0836\n",
            "Epoch [7/100], Loss: 0.0828\n",
            "Epoch [8/100], Loss: 0.0822\n",
            "Epoch [9/100], Loss: 0.0815\n",
            "Epoch [10/100], Loss: 0.0811\n",
            "Epoch [11/100], Loss: 0.0806\n",
            "Epoch [12/100], Loss: 0.0803\n",
            "Epoch [13/100], Loss: 0.0799\n",
            "Epoch [14/100], Loss: 0.0796\n",
            "Epoch [15/100], Loss: 0.0794\n",
            "Epoch [16/100], Loss: 0.0791\n",
            "Epoch [17/100], Loss: 0.0789\n",
            "Epoch [18/100], Loss: 0.0786\n",
            "Epoch [19/100], Loss: 0.0785\n",
            "Epoch [20/100], Loss: 0.0783\n",
            "Epoch [21/100], Loss: 0.0782\n",
            "Epoch [22/100], Loss: 0.0780\n",
            "Epoch [23/100], Loss: 0.0779\n",
            "Epoch [24/100], Loss: 0.0777\n",
            "Epoch [25/100], Loss: 0.0776\n",
            "Epoch [26/100], Loss: 0.0775\n",
            "Epoch [27/100], Loss: 0.0774\n",
            "Epoch [28/100], Loss: 0.0772\n",
            "Epoch [29/100], Loss: 0.0772\n",
            "Epoch [30/100], Loss: 0.0771\n",
            "Epoch [31/100], Loss: 0.0770\n",
            "Epoch [32/100], Loss: 0.0769\n",
            "Epoch [33/100], Loss: 0.0768\n",
            "Epoch [34/100], Loss: 0.0767\n",
            "Epoch [35/100], Loss: 0.0767\n",
            "Epoch [36/100], Loss: 0.0766\n",
            "Epoch [37/100], Loss: 0.0765\n",
            "Epoch [38/100], Loss: 0.0765\n",
            "Epoch [39/100], Loss: 0.0764\n",
            "Epoch [40/100], Loss: 0.0763\n",
            "Epoch [41/100], Loss: 0.0762\n",
            "Epoch [42/100], Loss: 0.0762\n",
            "Epoch [43/100], Loss: 0.0762\n",
            "Epoch [44/100], Loss: 0.0761\n",
            "Epoch [45/100], Loss: 0.0760\n",
            "Epoch [46/100], Loss: 0.0760\n",
            "Epoch [47/100], Loss: 0.0760\n",
            "Epoch [48/100], Loss: 0.0759\n",
            "Epoch [49/100], Loss: 0.0758\n",
            "Epoch [50/100], Loss: 0.0758\n",
            "Epoch [51/100], Loss: 0.0757\n",
            "Epoch [52/100], Loss: 0.0757\n",
            "Epoch [53/100], Loss: 0.0757\n",
            "Epoch [54/100], Loss: 0.0756\n",
            "Epoch [55/100], Loss: 0.0756\n",
            "Epoch [56/100], Loss: 0.0755\n",
            "Epoch [57/100], Loss: 0.0755\n",
            "Epoch [58/100], Loss: 0.0754\n",
            "Epoch [59/100], Loss: 0.0755\n",
            "Epoch [60/100], Loss: 0.0754\n",
            "Epoch [61/100], Loss: 0.0754\n",
            "Epoch [62/100], Loss: 0.0753\n",
            "Epoch [63/100], Loss: 0.0753\n",
            "Epoch [64/100], Loss: 0.0753\n",
            "Epoch [65/100], Loss: 0.0752\n",
            "Epoch [66/100], Loss: 0.0752\n",
            "Epoch [67/100], Loss: 0.0751\n",
            "Epoch [68/100], Loss: 0.0751\n",
            "Epoch [69/100], Loss: 0.0751\n",
            "Epoch [70/100], Loss: 0.0751\n",
            "Epoch [71/100], Loss: 0.0750\n",
            "Epoch [72/100], Loss: 0.0750\n",
            "Epoch [73/100], Loss: 0.0750\n",
            "Epoch [74/100], Loss: 0.0750\n",
            "Epoch [75/100], Loss: 0.0750\n",
            "Epoch [76/100], Loss: 0.0749\n",
            "Epoch [77/100], Loss: 0.0749\n",
            "Epoch [78/100], Loss: 0.0749\n",
            "Epoch [79/100], Loss: 0.0749\n",
            "Epoch [80/100], Loss: 0.0748\n",
            "Epoch [81/100], Loss: 0.0748\n",
            "Epoch [82/100], Loss: 0.0748\n",
            "Epoch [83/100], Loss: 0.0747\n",
            "Epoch [84/100], Loss: 0.0747\n",
            "Epoch [85/100], Loss: 0.0747\n",
            "Epoch [86/100], Loss: 0.0747\n",
            "Epoch [87/100], Loss: 0.0746\n",
            "Epoch [88/100], Loss: 0.0746\n",
            "Epoch [89/100], Loss: 0.0746\n",
            "Epoch [90/100], Loss: 0.0746\n",
            "Epoch [91/100], Loss: 0.0746\n",
            "Epoch [92/100], Loss: 0.0745\n",
            "Epoch [93/100], Loss: 0.0745\n",
            "Epoch [94/100], Loss: 0.0745\n",
            "Epoch [95/100], Loss: 0.0744\n",
            "Epoch [96/100], Loss: 0.0744\n",
            "Epoch [97/100], Loss: 0.0744\n",
            "Epoch [98/100], Loss: 0.0744\n",
            "Epoch [99/100], Loss: 0.0744\n",
            "Epoch [100/100], Loss: 0.0744\n"
          ]
        }
      ]
    },
    {
      "cell_type": "markdown",
      "source": [
        "### Evaluation (Reconstruction)"
      ],
      "metadata": {
        "id": "qAs2BG5lEeRa"
      }
    },
    {
      "cell_type": "code",
      "source": [
        "model.eval()\n",
        "\n",
        "H, W = 28, 28\n",
        "n_classes = 10\n",
        "\n",
        "with torch.no_grad():\n",
        "    # -- (1) Grab one batch from test_loader --\n",
        "    # We'll just loop once and break:\n",
        "    for images, labels in test_loader:\n",
        "        # Move the batch to the proper device\n",
        "        images = images.to(device)\n",
        "        labels = labels.to(device)  # integer labels\n",
        "\n",
        "        # -- (2) Forward pass -> get probability maps for each pixel\n",
        "        pred_probs = model(images, labels)  # shape [B, 1, H, W]\n",
        "\n",
        "        # -- (3) Sample from Bernoulli distribution pixel by pixel\n",
        "        samples_bernoulli = torch.zeros_like(pred_probs)\n",
        "        for i in range(H):\n",
        "            for j in range(W):\n",
        "                samples_bernoulli[:, :, i, j] = torch.bernoulli(pred_probs[:, :, i, j])\n",
        "\n",
        "        # We only wanted one batch, so break\n",
        "        break\n",
        "\n",
        "# -- (4) Convert to numpy and plot the first 64 images --\n",
        "samples_np = samples_bernoulli.detach().cpu().numpy().transpose(0, 2, 3, 1)\n",
        "\n",
        "fig, axes = plt.subplots(8, 8, figsize=(15, 15))\n",
        "for i in range(64):\n",
        "    sample = samples_np[i]\n",
        "    row, col = divmod(i, 8)\n",
        "    axes[row, col].imshow(sample.squeeze(), cmap='gray')\n",
        "    axes[row, col].axis('off')\n",
        "\n",
        "plt.tight_layout()\n",
        "plt.show()"
      ],
      "metadata": {
        "colab": {
          "base_uri": "https://localhost:8080/",
          "height": 1000
        },
        "id": "dTPfQSQzEadh",
        "outputId": "3d9fd2a3-a184-4729-eea9-eda1c42b49dd"
      },
      "execution_count": null,
      "outputs": [
        {
          "output_type": "display_data",
          "data": {
            "text/plain": [
              "<Figure size 1500x1500 with 64 Axes>"
            ],
            "image/png": "[encoded data removed]"
          },
          "metadata": {}
        }
      ]
    },
    {
      "cell_type": "markdown",
      "source": [
        "### Evaluation (Generation)"
      ],
      "metadata": {
        "id": "ao-IZm0HEiIw"
      }
    },
    {
      "cell_type": "code",
      "source": [
        "# 1) Prepare the sampling tensor of zeros\n",
        "samples = torch.zeros(size=(60, 1, H, W), device=device)\n",
        "\n",
        "# 2) Create a sorted array of repeated classes:\n",
        "#    We'll have classes [0..9] repeated 6 times -> total 60\n",
        "sample_classes_array = np.sort(np.array([np.arange(n_classes)] * 6).flatten())  # shape = (60,)\n",
        "\n",
        "# 3) Convert to LONG tensor so it matches nn.Embedding input expectations\n",
        "sample_classes_idx = torch.tensor(sample_classes_array, dtype=torch.long, device=device)\n",
        "\n",
        "# 4) Autoregressive sampling\n",
        "model.eval()\n",
        "with torch.no_grad():\n",
        "    for i in range(H):\n",
        "        for j in range(W):\n",
        "            # Forward pass:  shape [60, 1, H, W]\n",
        "            out = model(samples, sample_classes_idx)\n",
        "            # Sample from the Bernoulli distribution for pixel (i, j)\n",
        "            samples[:, :, i, j] = torch.bernoulli(out[:, :, i, j])\n",
        "\n",
        "# 5) Convert to numpy and plot results in a 10 x 6 grid\n",
        "samples_np = samples.cpu().numpy().transpose(0, 2, 3, 1)\n",
        "\n",
        "fig, axes = plt.subplots(10, 6, figsize=(15, 30))\n",
        "for i in range(60):\n",
        "    row, col = divmod(i, 6)\n",
        "    axes[row, col].imshow(samples_np[i].squeeze(), cmap='gray')\n",
        "    axes[row, col].axis('off')\n",
        "\n",
        "plt.tight_layout()\n",
        "plt.show()"
      ],
      "metadata": {
        "colab": {
          "base_uri": "https://localhost:8080/",
          "height": 1000
        },
        "id": "3c-h1K9HEjlM",
        "outputId": "9584738b-8be3-41eb-8daa-782f7545323b"
      },
      "execution_count": null,
      "outputs": [
        {
          "output_type": "display_data",
          "data": {
            "text/plain": [
              "<Figure size 1500x3000 with 60 Axes>"
            ],
            "image/png": "[encoded data removed]"
          },
          "metadata": {}
        }
      ]
    }
  ],
  "metadata": {
    "accelerator": "GPU",
    "colab": {
      "gpuType": "T4",
      "provenance": []
    },
    "kernelspec": {
      "display_name": "Python 3",
      "name": "python3"
    },
    "language_info": {
      "codemirror_mode": {
        "name": "ipython",
        "version": 3
      },
      "file_extension": ".py",
      "mimetype": "text/x-python",
      "name": "python",
      "nbconvert_exporter": "python",
      "pygments_lexer": "ipython3",
      "version": "3.10.16"
    },
    "widgets": {
      "application/vnd.jupyter.widget-state+json": {
        "7a6e10bf25b1426f8f0bc828e029fe6d": {
          "model_module": "@jupyter-widgets/controls",
          "model_name": "HBoxModel",
          "model_module_version": "1.5.0",
          "state": {
            "_dom_classes": [],
            "_model_module": "@jupyter-widgets/controls",
            "_model_module_version": "1.5.0",
            "_model_name": "HBoxModel",
            "_view_count": null,
            "_view_module": "@jupyter-widgets/controls",
            "_view_module_version": "1.5.0",
            "_view_name": "HBoxView",
            "box_style": "",
            "children": [
              "IPY_MODEL_08184a1a632346258a63516e01da868b",
              "IPY_MODEL_057bb12e3a624e1b85067bec6f2ec7a8",
              "IPY_MODEL_9e1840482105418ea5375c3cf655a69b"
            ],
            "layout": "IPY_MODEL_5baaa54055f7464aaefaa3e13bae33a4"
          }
        },
        "08184a1a632346258a63516e01da868b": {
          "model_module": "@jupyter-widgets/controls",
          "model_name": "HTMLModel",
          "model_module_version": "1.5.0",
          "state": {
            "_dom_classes": [],
            "_model_module": "@jupyter-widgets/controls",
            "_model_module_version": "1.5.0",
            "_model_name": "HTMLModel",
            "_view_count": null,
            "_view_module": "@jupyter-widgets/controls",
            "_view_module_version": "1.5.0",
            "_view_name": "HTMLView",
            "description": "",
            "description_tooltip": null,
            "layout": "IPY_MODEL_102e927bca8043cfa1a41e97f71b98f5",
            "placeholder": "​",
            "style": "IPY_MODEL_6b078d70895c402b94bb6f804a6a5f01",
            "value": "Epochs: 100%"
          }
        },
        "057bb12e3a624e1b85067bec6f2ec7a8": {
          "model_module": "@jupyter-widgets/controls",
          "model_name": "FloatProgressModel",
          "model_module_version": "1.5.0",
          "state": {
            "_dom_classes": [],
            "_model_module": "@jupyter-widgets/controls",
            "_model_module_version": "1.5.0",
            "_model_name": "FloatProgressModel",
            "_view_count": null,
            "_view_module": "@jupyter-widgets/controls",
            "_view_module_version": "1.5.0",
            "_view_name": "ProgressView",
            "bar_style": "success",
            "description": "",
            "description_tooltip": null,
            "layout": "IPY_MODEL_52f9c1d27b7b4fcc8bd4d50c2cb55f99",
            "max": 100,
            "min": 0,
            "orientation": "horizontal",
            "style": "IPY_MODEL_6de3b6b0186240f2a81e6dc2a06183cb",
            "value": 100
          }
        },
        "9e1840482105418ea5375c3cf655a69b": {
          "model_module": "@jupyter-widgets/controls",
          "model_name": "HTMLModel",
          "model_module_version": "1.5.0",
          "state": {
            "_dom_classes": [],
            "_model_module": "@jupyter-widgets/controls",
            "_model_module_version": "1.5.0",
            "_model_name": "HTMLModel",
            "_view_count": null,
            "_view_module": "@jupyter-widgets/controls",
            "_view_module_version": "1.5.0",
            "_view_name": "HTMLView",
            "description": "",
            "description_tooltip": null,
            "layout": "IPY_MODEL_f240951e183f45f383a9c967bfa916c0",
            "placeholder": "​",
            "style": "IPY_MODEL_9457f7c892b94573b8a71bc8497570df",
            "value": " 100/100 [1:44:51&lt;00:00, 62.89s/it]"
          }
        },
        "5baaa54055f7464aaefaa3e13bae33a4": {
          "model_module": "@jupyter-widgets/base",
          "model_name": "LayoutModel",
          "model_module_version": "1.2.0",
          "state": {
            "_model_module": "@jupyter-widgets/base",
            "_model_module_version": "1.2.0",
            "_model_name": "LayoutModel",
            "_view_count": null,
            "_view_module": "@jupyter-widgets/base",
            "_view_module_version": "1.2.0",
            "_view_name": "LayoutView",
            "align_content": null,
            "align_items": null,
            "align_self": null,
            "border": null,
            "bottom": null,
            "display": null,
            "flex": null,
            "flex_flow": null,
            "grid_area": null,
            "grid_auto_columns": null,
            "grid_auto_flow": null,
            "grid_auto_rows": null,
            "grid_column": null,
            "grid_gap": null,
            "grid_row": null,
            "grid_template_areas": null,
            "grid_template_columns": null,
            "grid_template_rows": null,
            "height": null,
            "justify_content": null,
            "justify_items": null,
            "left": null,
            "margin": null,
            "max_height": null,
            "max_width": null,
            "min_height": null,
            "min_width": null,
            "object_fit": null,
            "object_position": null,
            "order": null,
            "overflow": null,
            "overflow_x": null,
            "overflow_y": null,
            "padding": null,
            "right": null,
            "top": null,
            "visibility": null,
            "width": null
          }
        },
        "102e927bca8043cfa1a41e97f71b98f5": {
          "model_module": "@jupyter-widgets/base",
          "model_name": "LayoutModel",
          "model_module_version": "1.2.0",
          "state": {
            "_model_module": "@jupyter-widgets/base",
            "_model_module_version": "1.2.0",
            "_model_name": "LayoutModel",
            "_view_count": null,
            "_view_module": "@jupyter-widgets/base",
            "_view_module_version": "1.2.0",
            "_view_name": "LayoutView",
            "align_content": null,
            "align_items": null,
            "align_self": null,
            "border": null,
            "bottom": null,
            "display": null,
            "flex": null,
            "flex_flow": null,
            "grid_area": null,
            "grid_auto_columns": null,
            "grid_auto_flow": null,
            "grid_auto_rows": null,
            "grid_column": null,
            "grid_gap": null,
            "grid_row": null,
            "grid_template_areas": null,
            "grid_template_columns": null,
            "grid_template_rows": null,
            "height": null,
            "justify_content": null,
            "justify_items": null,
            "left": null,
            "margin": null,
            "max_height": null,
            "max_width": null,
            "min_height": null,
            "min_width": null,
            "object_fit": null,
            "object_position": null,
            "order": null,
            "overflow": null,
            "overflow_x": null,
            "overflow_y": null,
            "padding": null,
            "right": null,
            "top": null,
            "visibility": null,
            "width": null
          }
        },
        "6b078d70895c402b94bb6f804a6a5f01": {
          "model_module": "@jupyter-widgets/controls",
          "model_name": "DescriptionStyleModel",
          "model_module_version": "1.5.0",
          "state": {
            "_model_module": "@jupyter-widgets/controls",
            "_model_module_version": "1.5.0",
            "_model_name": "DescriptionStyleModel",
            "_view_count": null,
            "_view_module": "@jupyter-widgets/base",
            "_view_module_version": "1.2.0",
            "_view_name": "StyleView",
            "description_width": ""
          }
        },
        "52f9c1d27b7b4fcc8bd4d50c2cb55f99": {
          "model_module": "@jupyter-widgets/base",
          "model_name": "LayoutModel",
          "model_module_version": "1.2.0",
          "state": {
            "_model_module": "@jupyter-widgets/base",
            "_model_module_version": "1.2.0",
            "_model_name": "LayoutModel",
            "_view_count": null,
            "_view_module": "@jupyter-widgets/base",
            "_view_module_version": "1.2.0",
            "_view_name": "LayoutView",
            "align_content": null,
            "align_items": null,
            "align_self": null,
            "border": null,
            "bottom": null,
            "display": null,
            "flex": null,
            "flex_flow": null,
            "grid_area": null,
            "grid_auto_columns": null,
            "grid_auto_flow": null,
            "grid_auto_rows": null,
            "grid_column": null,
            "grid_gap": null,
            "grid_row": null,
            "grid_template_areas": null,
            "grid_template_columns": null,
            "grid_template_rows": null,
            "height": null,
            "justify_content": null,
            "justify_items": null,
            "left": null,
            "margin": null,
            "max_height": null,
            "max_width": null,
            "min_height": null,
            "min_width": null,
            "object_fit": null,
            "object_position": null,
            "order": null,
            "overflow": null,
            "overflow_x": null,
            "overflow_y": null,
            "padding": null,
            "right": null,
            "top": null,
            "visibility": null,
            "width": null
          }
        },
        "6de3b6b0186240f2a81e6dc2a06183cb": {
          "model_module": "@jupyter-widgets/controls",
          "model_name": "ProgressStyleModel",
          "model_module_version": "1.5.0",
          "state": {
            "_model_module": "@jupyter-widgets/controls",
            "_model_module_version": "1.5.0",
            "_model_name": "ProgressStyleModel",
            "_view_count": null,
            "_view_module": "@jupyter-widgets/base",
            "_view_module_version": "1.2.0",
            "_view_name": "StyleView",
            "bar_color": null,
            "description_width": ""
          }
        },
        "f240951e183f45f383a9c967bfa916c0": {
          "model_module": "@jupyter-widgets/base",
          "model_name": "LayoutModel",
          "model_module_version": "1.2.0",
          "state": {
            "_model_module": "@jupyter-widgets/base",
            "_model_module_version": "1.2.0",
            "_model_name": "LayoutModel",
            "_view_count": null,
            "_view_module": "@jupyter-widgets/base",
            "_view_module_version": "1.2.0",
            "_view_name": "LayoutView",
            "align_content": null,
            "align_items": null,
            "align_self": null,
            "border": null,
            "bottom": null,
            "display": null,
            "flex": null,
            "flex_flow": null,
            "grid_area": null,
            "grid_auto_columns": null,
            "grid_auto_flow": null,
            "grid_auto_rows": null,
            "grid_column": null,
            "grid_gap": null,
            "grid_row": null,
            "grid_template_areas": null,
            "grid_template_columns": null,
            "grid_template_rows": null,
            "height": null,
            "justify_content": null,
            "justify_items": null,
            "left": null,
            "margin": null,
            "max_height": null,
            "max_width": null,
            "min_height": null,
            "min_width": null,
            "object_fit": null,
            "object_position": null,
            "order": null,
            "overflow": null,
            "overflow_x": null,
            "overflow_y": null,
            "padding": null,
            "right": null,
            "top": null,
            "visibility": null,
            "width": null
          }
        },
        "9457f7c892b94573b8a71bc8497570df": {
          "model_module": "@jupyter-widgets/controls",
          "model_name": "DescriptionStyleModel",
          "model_module_version": "1.5.0",
          "state": {
            "_model_module": "@jupyter-widgets/controls",
            "_model_module_version": "1.5.0",
            "_model_name": "DescriptionStyleModel",
            "_view_count": null,
            "_view_module": "@jupyter-widgets/base",
            "_view_module_version": "1.2.0",
            "_view_name": "StyleView",
            "description_width": ""
          }
        }
      }
    }
  },
  "nbformat": 4,
  "nbformat_minor": 0
}